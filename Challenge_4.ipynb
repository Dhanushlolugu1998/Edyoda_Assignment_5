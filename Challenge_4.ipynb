{
 "cells": [
  {
   "cell_type": "markdown",
   "id": "5167fc93-1113-4129-9ef8-db4736a3c3e5",
   "metadata": {},
   "source": [
    "### Challenge 4: Implement a Banking Account\n",
    "#### Problem statement\n",
    "#### Implement the basic structure of a parent class, Account, and a child class, SavingsAccount.\n",
    "\n",
    "#### Task 1\n",
    "\n",
    "#### 👉 Implement properties as instance variables, and set them to None or 0.\n",
    "\n",
    "#### Account has the following properties:\n",
    "\n",
    "    • title\n",
    "    • Balance\n",
    "#### SavingsAccount has the following properties:\n",
    "\n",
    "    • interestRate\n",
    "#### Task 2\n",
    "\n",
    "#### Create an initializer for Account class. The order of parameters should be the following, where Ashish is the title, and 5000 is the account balance:\n",
    "\n",
    "- Account(\"Ashish\", 5000)\n",
    "\n",
    "#### Task 3\n",
    "\n",
    "#### Implement properties as instance variables, and set them to None or 0.\n",
    "\n",
    "#### Create an initializer for the SavingsAccount class using the initializer of the Account class in the order below:\n",
    "\n",
    "- Account(\"Ashish\", 5000, 5)\n",
    "\n",
    "- Here, Ashish is the title and 5000 is the balance and 5 is the interestRate."
   ]
  },
  {
   "cell_type": "code",
   "execution_count": 21,
   "id": "088e98de-2b4b-4734-8ad7-16baecbe9e62",
   "metadata": {},
   "outputs": [],
   "source": [
    "class Account:\n",
    "    def __init__(self,title,Balance):\n",
    "        self.title = title\n",
    "        self.Balance = Balance\n",
    "\n",
    "class SavingsAccount(Account):\n",
    "    def __init__(self,title,Balance,interestRate):\n",
    "        super().__init__(title,Balance)\n",
    "        self.interestRate = interestRate"
   ]
  },
  {
   "cell_type": "code",
   "execution_count": 23,
   "id": "dccf6b08-d43e-4cc9-8ea8-7375daecc874",
   "metadata": {},
   "outputs": [
    {
     "name": "stdin",
     "output_type": "stream",
     "text": [
      "Account Holer Title : Dhanush Lolugu\n",
      "Account Balance : 5000\n",
      "Interest Rate : 5\n"
     ]
    }
   ],
   "source": [
    "Account_Holer_Name = input(\"Account Holer Title :\")\n",
    "Account_Balance = int(input(\"Account Balance :\"))\n",
    "Rate_of_Interest = float(input(\"Interest Rate :\"))"
   ]
  },
  {
   "cell_type": "code",
   "execution_count": 24,
   "id": "431498e9-1333-4ac3-856a-de846e061dd0",
   "metadata": {},
   "outputs": [],
   "source": [
    "savings_account = SavingsAccount(Account_Holer_Name,Account_Balance,Rate_of_Interest)"
   ]
  },
  {
   "cell_type": "code",
   "execution_count": 25,
   "id": "dd302527-5b97-4548-b375-536b229138e8",
   "metadata": {},
   "outputs": [
    {
     "name": "stdout",
     "output_type": "stream",
     "text": [
      "Account Title : Dhanush Lolugu\n",
      "Account Balance : 5000\n",
      "Interset Rate :  5.0\n"
     ]
    }
   ],
   "source": [
    "print(\"Account Title :\",savings_account.title)\n",
    "print(\"Account Balance :\",savings_account.Balance)\n",
    "print(\"Interset Rate : \",savings_account.interestRate)"
   ]
  },
  {
   "cell_type": "code",
   "execution_count": null,
   "id": "f1ab376d-ee88-4236-9147-3c294ef8e85d",
   "metadata": {},
   "outputs": [],
   "source": []
  }
 ],
 "metadata": {
  "kernelspec": {
   "display_name": "Python 3 (ipykernel)",
   "language": "python",
   "name": "python3"
  },
  "language_info": {
   "codemirror_mode": {
    "name": "ipython",
    "version": 3
   },
   "file_extension": ".py",
   "mimetype": "text/x-python",
   "name": "python",
   "nbconvert_exporter": "python",
   "pygments_lexer": "ipython3",
   "version": "3.10.9"
  }
 },
 "nbformat": 4,
 "nbformat_minor": 5
}
