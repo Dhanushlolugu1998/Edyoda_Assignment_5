{
 "cells": [
  {
   "cell_type": "markdown",
   "id": "0d8cada0-c662-4df2-a37a-9d92f916973e",
   "metadata": {},
   "source": [
    "### In this challenge, you will implement a student class\n",
    "#### Problem statement\n",
    "\n",
    "- Implement the complete Student class by completing the tasks below\n",
    "\n",
    "#### Task\n",
    "#### 👉 Implement the following properties as private:\n",
    "- name\n",
    "- rollNumber\n",
    "#### 👉 Include the following methods to get and set the private properties above:\n",
    "\n",
    "- getName()\n",
    "- setName()\n",
    "- getRollNumber()\n",
    "- setRollNumber()\n",
    "#### 👉 Implement this class according to the rules of encapsulation.\n",
    "\n",
    "- Input - Checking all the properties and methods\n",
    "- Output - Expecting perfectly defined fields and getter/setters\n",
    "\n",
    "##### Note: Do not use initializers to initialize the properties. Use the set methods to do so.\n",
    "\n",
    "- If the setter is not defined properly, the corresponding getter will also generate an error even if the getter is defined properly.\n"
   ]
  },
  {
   "cell_type": "code",
   "execution_count": 60,
   "id": "64be2919-46ee-4a55-bee4-c9385396aaa7",
   "metadata": {},
   "outputs": [],
   "source": [
    "class Student:\n",
    "    def setName(self, name):\n",
    "        self.__name = name\n",
    "\n",
    "    def getName(self):\n",
    "        return self.__name\n",
    "\n",
    "    def setRollNumber(self, rollNumber):\n",
    "        self.__rollNumber = rollNumber\n",
    "\n",
    "    def getRollNumber(self):\n",
    "        return self.__rollNumber\n",
    "    \n",
    "    def setCourse(self,courseName):\n",
    "        self.__courseName = courseName\n",
    "        \n",
    "    def getCourse(self):\n",
    "        return self.__courseName"
   ]
  },
  {
   "cell_type": "code",
   "execution_count": 61,
   "id": "c6081eb2-61ed-45ed-871d-dc9e424d09b6",
   "metadata": {},
   "outputs": [],
   "source": [
    "student =Student()"
   ]
  },
  {
   "cell_type": "code",
   "execution_count": 62,
   "id": "594e21ac-6d4b-4236-8b2c-2b0509ce79c2",
   "metadata": {},
   "outputs": [],
   "source": [
    "student.setName(\"Dhanush Lolugu\")\n",
    "student.setRollNumber(444)\n",
    "student.setCourse(\"Edyoda\")"
   ]
  },
  {
   "cell_type": "code",
   "execution_count": 63,
   "id": "6e159669-8bae-4b3a-9de1-ca1d5756232b",
   "metadata": {},
   "outputs": [
    {
     "name": "stdout",
     "output_type": "stream",
     "text": [
      "Name of the Student : Dhanush Lolugu\n",
      "Roll Number: 444\n",
      "Name of the Course : Edyoda\n"
     ]
    }
   ],
   "source": [
    "print(\"Name of the Student :\",student.getName())\n",
    "print(\"Roll Number:\", student.getRollNumber())\n",
    "print(\"Name of the Course :\",student.getCourse())"
   ]
  },
  {
   "cell_type": "code",
   "execution_count": null,
   "id": "73829377-a608-4dd8-bbc5-6439882e7ca9",
   "metadata": {},
   "outputs": [],
   "source": []
  }
 ],
 "metadata": {
  "kernelspec": {
   "display_name": "Python 3 (ipykernel)",
   "language": "python",
   "name": "python3"
  },
  "language_info": {
   "codemirror_mode": {
    "name": "ipython",
    "version": 3
   },
   "file_extension": ".py",
   "mimetype": "text/x-python",
   "name": "python",
   "nbconvert_exporter": "python",
   "pygments_lexer": "ipython3",
   "version": "3.10.9"
  }
 },
 "nbformat": 4,
 "nbformat_minor": 5
}
