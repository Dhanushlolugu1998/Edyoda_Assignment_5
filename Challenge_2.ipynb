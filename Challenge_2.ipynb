{
 "cells": [
  {
   "cell_type": "markdown",
   "id": "b039ddce-10e8-4ce1-8727-60d66bb2ecf7",
   "metadata": {},
   "source": [
    "### Challenge 2: Implement a Calculator Class\n",
    "- In this exercise, you have to implement a calculator that can perform addition, subtraction, multiplication, and division.\n",
    "### Problem statement Write a Python class called Calculator by completing the tasks below:\n",
    "#### Task 1\n",
    "#### 👉 Initializer\n",
    "#### Implement an initializer to initialize the values of num1 and num2. Properties\n",
    "- num1\n",
    "- num2\n",
    "\n",
    "#### Task 2\n",
    "#### 👉 Methods\n",
    "-  add() is a method that returns the sum of num1 and num2.\n",
    "- subtract() is a method that returns the subtraction of num1 from num2.\n",
    "- multiply() is a method that returns the product of num1 and num2.\n",
    "- divide() is a method that returns the division of num2 by num1.\n",
    "\n",
    "- Input - Pass numbers (integers or floats) in the initializer.\n",
    "- Output - addition, subtraction, division, and multiplication\n",
    "\n",
    "#### Sample input\n",
    "\n",
    "- obj = Calculator(10, 94)\n",
    "- obj.add()\n",
    "- obj.subtract()\n",
    "- obj.multiply()\n",
    "- obj.divide()\n",
    "\n",
    "#### Sample output\n",
    "- 104\n",
    "- 84\n",
    "- 940\n",
    "- 9.4"
   ]
  },
  {
   "cell_type": "code",
   "execution_count": 46,
   "id": "3d442937-f7e1-4614-842b-7c8d199ba74a",
   "metadata": {},
   "outputs": [],
   "source": [
    "class Calculator:\n",
    "    def __init__(self,num1,num2):\n",
    "        self.num1= num1\n",
    "        self.num2= num2\n",
    "    def add(self):\n",
    "        return self.num1 + self.num2\n",
    "    def subtract(self):\n",
    "        return self.num2 -  self.num1\n",
    "    def multiply(self):\n",
    "        return self.num1 * self.num2\n",
    "    def divide(self):\n",
    "        return self.num2 / self.num1\n",
    "        "
   ]
  },
  {
   "cell_type": "code",
   "execution_count": 57,
   "id": "ba31f0c0-e2e8-404b-9464-264a24dcb5e4",
   "metadata": {},
   "outputs": [
    {
     "name": "stdin",
     "output_type": "stream",
     "text": [
      "First number is :  10\n",
      "Second number is :  94\n"
     ]
    }
   ],
   "source": [
    "num1_value = int(input(\"First number is : \"))\n",
    "num2_value = int(input(\"Second number is : \"))"
   ]
  },
  {
   "cell_type": "code",
   "execution_count": 58,
   "id": "c2ba902c-e97e-4d8c-b358-232cf530121a",
   "metadata": {},
   "outputs": [],
   "source": [
    "obj = Calculator(num1_value,num2_value)"
   ]
  },
  {
   "cell_type": "code",
   "execution_count": 59,
   "id": "1c2fce97-0a4f-4222-857e-8d5f44137c4a",
   "metadata": {},
   "outputs": [
    {
     "name": "stdout",
     "output_type": "stream",
     "text": [
      "104\n",
      "84\n",
      "940\n",
      "9.4\n"
     ]
    }
   ],
   "source": [
    "print(obj.add())\n",
    "print(obj.subtract())\n",
    "print(obj.multiply())\n",
    "print(obj.divide())"
   ]
  }
 ],
 "metadata": {
  "kernelspec": {
   "display_name": "Python 3 (ipykernel)",
   "language": "python",
   "name": "python3"
  },
  "language_info": {
   "codemirror_mode": {
    "name": "ipython",
    "version": 3
   },
   "file_extension": ".py",
   "mimetype": "text/x-python",
   "name": "python",
   "nbconvert_exporter": "python",
   "pygments_lexer": "ipython3",
   "version": "3.10.9"
  }
 },
 "nbformat": 4,
 "nbformat_minor": 5
}
