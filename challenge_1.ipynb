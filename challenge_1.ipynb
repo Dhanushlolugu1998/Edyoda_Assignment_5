{
 "cells": [
  {
   "cell_type": "markdown",
   "id": "94d88a04-ada4-42b4-b9ae-f0885dc446f1",
   "metadata": {},
   "source": [
    "### Challenge 1: Square Numbers and Return Their Sum\n",
    "- In this challenge, you need to implement a method that squares passing variables and returns their sum.\n",
    "\n",
    "- Problem statement: Implement a class Point that has three properties and a method. All these attributes (properties and methods) should be public. This problem can be broken down into two tasks:\n",
    "\n",
    "#### Task 1: 👉 Implement a constructor to initialize the values of three properties: x, y, and z.\n",
    "\n",
    "#### Task 2: 👉 Implement a method, sqSum(), in the Point class which squares x, y, and z and returns their sum.\n",
    "\n",
    "- Sample properties 1, 3, 5\n",
    "\n",
    "- Sample method output 35"
   ]
  },
  {
   "cell_type": "code",
   "execution_count": 1,
   "id": "93325e7c-3449-44c7-97aa-5d2ee04ee11f",
   "metadata": {},
   "outputs": [],
   "source": [
    "class Point:\n",
    "    def __init__(self,x,y,z):\n",
    "        self.x=x\n",
    "        self.y=y\n",
    "        self.z=z\n",
    "    def sqSum(self):\n",
    "        return self.x**2 +self.y**2 +self.z**2"
   ]
  },
  {
   "cell_type": "code",
   "execution_count": 3,
   "id": "93feb28e-3a4a-4f7c-b940-5fff1d551150",
   "metadata": {},
   "outputs": [
    {
     "name": "stdin",
     "output_type": "stream",
     "text": [
      "Value of X:  1\n",
      "Value of Y:  3\n",
      "Value of Z:  5\n"
     ]
    }
   ],
   "source": [
    "x_value = int(input(\"Value of X: \"))\n",
    "y_value = int(input(\"Value of Y: \"))\n",
    "z_value = int(input(\"Value of Z: \"))"
   ]
  },
  {
   "cell_type": "code",
   "execution_count": 8,
   "id": "bc65b364-4566-4158-be35-700f859c292a",
   "metadata": {},
   "outputs": [],
   "source": [
    "point = Point(x_value,y_value,z_value)"
   ]
  },
  {
   "cell_type": "code",
   "execution_count": 9,
   "id": "d1ec0f15-8f1a-44d4-b955-7405e5314942",
   "metadata": {},
   "outputs": [
    {
     "name": "stdout",
     "output_type": "stream",
     "text": [
      "35\n"
     ]
    }
   ],
   "source": [
    "result = point.sqSum()\n",
    "print(result)"
   ]
  },
  {
   "cell_type": "code",
   "execution_count": null,
   "id": "7469d9ba-61fd-47c1-938f-c62e0e6fd056",
   "metadata": {},
   "outputs": [],
   "source": []
  }
 ],
 "metadata": {
  "kernelspec": {
   "display_name": "Python 3 (ipykernel)",
   "language": "python",
   "name": "python3"
  },
  "language_info": {
   "codemirror_mode": {
    "name": "ipython",
    "version": 3
   },
   "file_extension": ".py",
   "mimetype": "text/x-python",
   "name": "python",
   "nbconvert_exporter": "python",
   "pygments_lexer": "ipython3",
   "version": "3.10.9"
  }
 },
 "nbformat": 4,
 "nbformat_minor": 5
}
