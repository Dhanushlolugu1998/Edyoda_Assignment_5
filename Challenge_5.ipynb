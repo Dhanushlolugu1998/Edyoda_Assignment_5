{
 "cells": [
  {
   "cell_type": "markdown",
   "id": "964ed844",
   "metadata": {},
   "source": [
    "#### In this challenge, you will define methods for handling a bank account using concepts of inheritance.\n",
    "\n",
    "#### Problem statement\n",
    "\n",
    "##### In this challenge, we will be extending the previous challenge and implementing methods in the parent class and its corresponding child class.\n",
    "\n",
    "##### The initializers for both classes have been defined for you.\n",
    "\n",
    "### Task 1\n",
    "\n",
    "##### In the Account class, implement the getBalance() method that returns balance.\n",
    "\n",
    "### Task 2\n",
    "\n",
    "##### In the Account class, implement the deposit(amount) method that adds amount to the balance.\n",
    "\n",
    "##### It does not return anything.\n",
    "\n",
    "### Sample input\n",
    "\n",
    "- balance = 2000\n",
    "- deposit(500)\n",
    "- getbalance()\n",
    "\n",
    "### Sample output\n",
    "- 2500\n",
    "\n",
    "### Task 3\n",
    "##### In the Account class, implement the withdrawal(amount) method that subtracts the amount from the balance.\n",
    "##### It does not return anything.\n",
    "\n",
    "### Sample input\n",
    "\n",
    "- balance = 2000\n",
    "- withdrawal(500)\n",
    "- getbalance()\n",
    "\n",
    "### Sample output\n",
    "- 1500\n",
    "\n",
    "### Task 4\n",
    "\n",
    "##### In the SavingsAccount class, implement an interestAmount() method that returns the interest amount of the current balance.\n",
    "\n",
    "### Sample input\n",
    "\n",
    "- balance = 2000\n",
    "- interestRate = 5\n",
    "- interestAmount()\n",
    "### Sample output\n",
    "- 100\n"
   ]
  },
  {
   "cell_type": "code",
   "execution_count": 1,
   "id": "ece0b817",
   "metadata": {},
   "outputs": [],
   "source": [
    "class Account:\n",
    "    def __init__(self,title,balance):\n",
    "        self.title = title\n",
    "        self.balance = balance\n",
    "    def getBalance(self):\n",
    "        return self.balance\n",
    "    def withdrawal(self,amount):\n",
    "        self.balance -= amount\n",
    "    def deposit(self,amount):\n",
    "        self.balance +=amount"
   ]
  },
  {
   "cell_type": "code",
   "execution_count": 2,
   "id": "1f8043ff",
   "metadata": {},
   "outputs": [],
   "source": [
    "class SavingsAccount(Account):\n",
    "    def __init__(self, title, balance, interestRate):\n",
    "            super().__init__(title, balance)\n",
    "            self.interestRate = interestRate\n",
    "    def interestAmount(self):\n",
    "        return (self.interestRate * self.balance)/100"
   ]
  },
  {
   "cell_type": "code",
   "execution_count": 4,
   "id": "b767f05d",
   "metadata": {},
   "outputs": [],
   "source": [
    "saving_account = SavingsAccount(\"Dhanush\",2000,5)"
   ]
  },
  {
   "cell_type": "code",
   "execution_count": 5,
   "id": "f2a444df",
   "metadata": {},
   "outputs": [],
   "source": [
    "saving_account.deposit(500)\n",
    "saving_account.withdrawal(500)"
   ]
  },
  {
   "cell_type": "code",
   "execution_count": 8,
   "id": "9005ebb1",
   "metadata": {},
   "outputs": [],
   "source": [
    "interest_amount = saving_account.interestAmount()\n",
    "updated_balance = saving_account.getBalance()"
   ]
  },
  {
   "cell_type": "code",
   "execution_count": 15,
   "id": "79194666",
   "metadata": {},
   "outputs": [
    {
     "name": "stdout",
     "output_type": "stream",
     "text": [
      "Updated Balance :  2000\n",
      "Interest Amount : 100.0\n"
     ]
    }
   ],
   "source": [
    "print(\"Updated Balance : \",updated_balance)\n",
    "print(\"Interest Amount :\",interest_amount)"
   ]
  },
  {
   "cell_type": "code",
   "execution_count": null,
   "id": "ef437a93",
   "metadata": {},
   "outputs": [],
   "source": []
  }
 ],
 "metadata": {
  "kernelspec": {
   "display_name": "Python 3 (ipykernel)",
   "language": "python",
   "name": "python3"
  },
  "language_info": {
   "codemirror_mode": {
    "name": "ipython",
    "version": 3
   },
   "file_extension": ".py",
   "mimetype": "text/x-python",
   "name": "python",
   "nbconvert_exporter": "python",
   "pygments_lexer": "ipython3",
   "version": "3.10.9"
  }
 },
 "nbformat": 4,
 "nbformat_minor": 5
}
